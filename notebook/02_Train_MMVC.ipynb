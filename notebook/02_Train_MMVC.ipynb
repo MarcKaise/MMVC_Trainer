{
  "cells": [
    {
      "cell_type": "markdown",
      "metadata": {
        "id": "qjxnLNp4TAqD"
      },
      "source": [
        "# MMVC Trainer\n",
        "\n",
        "ver.2022/08/10\n",
        "\n",
        "「Google Colaboratory」を利用してMMVCで利用するVITSの学習を行います。"
      ]
    },
    {
      "cell_type": "markdown",
      "source": [
        "​"
      ],
      "metadata": {
        "id": "DTaWXYH8r0f4"
      }
    },
    {
      "cell_type": "code",
      "execution_count": null,
      "metadata": {
        "cellView": "form",
        "id": "jFsXIyuIzHGX"
      },
      "outputs": [],
      "source": [
        "#@title ## 1 Google Driveをマウント\n",
        "#@markdown **このノートブックで、Google Driveを使用するための設定です。**\n",
        "\n",
        "#@markdown 「警告: このノートブックは Google が作成したものではありません。」といったポップアップが表示された場合、内容を確認して「このまま実行」を選択してください。このノートブックでは、外部へのデータ送信は一切行われません。\n",
        "\n",
        "#@markdown 　「このノートブックに Google ドライブのファイルへのアクセスを許可しますか？」といったポップアップが表示されるので、「Google ドライブに接続」を押下し、google アカウントを選択して、「許可」を選択してください。\n",
        "\n",
        "#@markdown 成功すれば、下記メッセージが出ます。 { display-mode: \"form\" }\n",
        "\n",
        "#@markdown ``` \n",
        "#@markdown Mounted at /content/drive/\n",
        "#@markdown ```\n",
        "\n",
        "from google.colab import drive\n",
        "drive.mount('/content/drive')"
      ]
    },
    {
      "cell_type": "markdown",
      "source": [
        "​"
      ],
      "metadata": {
        "id": "B5lhnVQbOIoe"
      }
    },
    {
      "cell_type": "code",
      "source": [
        "#@title 2 MMVC_Trainerディレクトリに移動\n",
        "#@markdown ​マウントしたGoogle DriveのMMVC_Trainerディレクトリに移動します。\n",
        "\n",
        "#@markdown Google DriveでMMVC_Trainerの場所を確認し、以下でパスを指定してください。\n",
        "\n",
        "#@markdown 正しいパスが指定されていれば、以下のようなメッセージが表示されます。\n",
        "\n",
        "#@markdown ```\n",
        "#@markdown attentions.py\n",
        "#@markdown commons.py\n",
        "#@markdown ...(略)\n",
        "#@markdown ```\n",
        "#@markdown\n",
        "\n",
        "\n",
        "#@markdown ​\n",
        "#@markdown ### Settings\n",
        "directory = \"/content/drive/MyDrive/MMVC_Trainer\" #@param {type:\"string\"}\n",
        "\n",
        "%cd $directory\n",
        "!ls -1"
      ],
      "metadata": {
        "id": "4dSgFEkpvEhj",
        "cellView": "form"
      },
      "execution_count": null,
      "outputs": []
    },
    {
      "cell_type": "markdown",
      "source": [
        "​"
      ],
      "metadata": {
        "id": "a9UiGTPJsCut"
      }
    },
    {
      "cell_type": "code",
      "execution_count": null,
      "metadata": {
        "id": "uSMdNq2rn4_G",
        "cellView": "form"
      },
      "outputs": [],
      "source": [
        "#@title ## 3 GPUの確認\n",
        "#@markdown GPUの確認を行います。  \n",
        "#@markdown 割り当てられたGPUのメモリーを確認し、それに合わせてconfigファイルの\"batch_size\"を指定してください。  \n",
        "!nvidia-smi"
      ]
    },
    {
      "cell_type": "markdown",
      "source": [
        "​"
      ],
      "metadata": {
        "id": "kezhQgu-sDlJ"
      }
    },
    {
      "cell_type": "code",
      "execution_count": null,
      "metadata": {
        "id": "LWceuYPPn7UN",
        "cellView": "form"
      },
      "outputs": [],
      "source": [
        "#@title ## 4 ライブラリのインストール\n",
        "#@markdown 時間がかかります。気長にお待ちください。\n",
        "!apt-get install espeak\n",
        "!pip install -r requirements.txt"
      ]
    },
    {
      "cell_type": "markdown",
      "source": [
        "​"
      ],
      "metadata": {
        "id": "Thm7hBSGtx4x"
      }
    },
    {
      "cell_type": "code",
      "execution_count": null,
      "metadata": {
        "id": "4k3EKZNPn82i"
      },
      "outputs": [],
      "source": [
        "#@title ## 5 tensorboardの起動\n",
        "#@markdown とりあえず実行しておいてください。\n",
        "# Load the TensorBoard notebook extension\n",
        "%load_ext tensorboard"
      ]
    },
    {
      "cell_type": "code",
      "execution_count": null,
      "metadata": {
        "id": "0VAw8j3ln-iq"
      },
      "outputs": [],
      "source": [
        "%tensorboard --logdir logs --port 5000"
      ]
    },
    {
      "cell_type": "markdown",
      "metadata": {
        "id": "burdlftQVFOA"
      },
      "source": [
        "## 6 学習を実行します\n",
        "-c configファイルのパス  \n",
        "Create_Configfile.ipynb 等で作成したconfigファイル(json)を指定してください。  \n",
        "`configs/****.json`\n",
        "のような値になります。  \n",
        "\n",
        "-m modelの保存先ディレクトリ  \n",
        "**ディレクトリ名を直接指名してください。**  \n",
        "\n",
        "-fg にFine tuningのベースとなるG_xxxx.pth のpathを指定してください。  \n",
        "-fd にFine tuningのベースとなるD_xxxx.pth のpathを指定してください。  \n",
        "**よくわからないよって人は**    \n",
        "-fg fine_model/G_180000.pth -fd fine_model/D_180000.pth \n",
        "のままにしておいてください。\n",
        "\n",
        "2回目以降の実行の場合は自動的に-mで指定したディレクトリの最新のモデルから学習を再開します。  \n",
        "**必ず学習を再開するときは-fgと-fdのオプションを削除してください**\n",
        "\n",
        "Ex)!python train_ms.py -c configs/jsontest.json -m 20220306_24000"
      ]
    },
    {
      "cell_type": "code",
      "execution_count": null,
      "metadata": {
        "id": "cf1XrJG2n_7N"
      },
      "outputs": [],
      "source": [
        "!python train_ms.py -c configs/train_config_zundamon.json -m 20220306_24000 -fg fine_model/G_180000.pth -fd fine_model/D_180000.pth"
      ]
    },
    {
      "cell_type": "markdown",
      "metadata": {
        "id": "oY0o1KKI0P5r"
      },
      "source": [
        "学習を再開するときのコード例です。  "
      ]
    },
    {
      "cell_type": "code",
      "execution_count": null,
      "metadata": {
        "id": "S3eHzCwI0NsB"
      },
      "outputs": [],
      "source": [
        "!python train_ms.py -c configs/train_config_zundamon.json -m 20220306_24000"
      ]
    },
    {
      "cell_type": "markdown",
      "metadata": {
        "id": "C3NsBidtNni1"
      },
      "source": [
        "### ずんだもん以外の話者の学習を行う場合、下記セルを実行して、初回の学習を開始してください。"
      ]
    },
    {
      "cell_type": "code",
      "execution_count": null,
      "metadata": {
        "id": "G0UbcymeNni1"
      },
      "outputs": [],
      "source": [
        "!python train_ms.py -c configs/train_config.json -m 20220306_24000 -fg fine_model/G_180000.pth -fd fine_model/D_180000.pth"
      ]
    },
    {
      "cell_type": "markdown",
      "metadata": {
        "id": "jZdypzvVNni2"
      },
      "source": [
        "ずんだもん以外の話者の学習を再開するときのコード例です。"
      ]
    },
    {
      "cell_type": "code",
      "execution_count": null,
      "metadata": {
        "id": "qoNP1eX1Nni2"
      },
      "outputs": [],
      "source": [
        "!python train_ms.py -c configs/train_config.json -m 20220306_24000"
      ]
    }
  ],
  "metadata": {
    "accelerator": "GPU",
    "colab": {
      "collapsed_sections": [],
      "name": "Train_MMVC.ipynb",
      "provenance": []
    },
    "kernelspec": {
      "display_name": "Python 3.9.6 64-bit",
      "language": "python",
      "name": "python3"
    },
    "language_info": {
      "name": "python",
      "version": "3.9.6"
    },
    "vscode": {
      "interpreter": {
        "hash": "d3394867249fd41ee68869925f4586b97ae8a94f3c93a4c25403e9e75f272611"
      }
    }
  },
  "nbformat": 4,
  "nbformat_minor": 0
}