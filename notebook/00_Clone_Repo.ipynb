{
  "nbformat": 4,
  "nbformat_minor": 0,
  "metadata": {
    "colab": {
      "private_outputs": true,
      "provenance": []
    },
    "kernelspec": {
      "name": "python3",
      "display_name": "Python 3"
    },
    "language_info": {
      "name": "python"
    },
    "gpuClass": "standard"
  },
  "cells": [
    {
      "cell_type": "markdown",
      "source": [
        "# MMVCのリポジトリをGoogle Driveに保存する\n",
        "\n",
        "ver.2022/09/06"
      ],
      "metadata": {
        "id": "zO4ySkfLgBIp"
      }
    },
    {
      "cell_type": "markdown",
      "source": [
        "## 1 概要\n",
        "GitHub上のMMVC_Trainerのリポジトリをクローンし、Google Driveに保存します。"
      ],
      "metadata": {
        "id": "Xi-uiBYvgKeU"
      }
    },
    {
      "cell_type": "markdown",
      "source": [
        "​"
      ],
      "metadata": {
        "id": "T5hplryJhQGB"
      }
    },
    {
      "cell_type": "markdown",
      "metadata": {
        "id": "kN0-Tj3TL-T2"
      },
      "source": [
        "## 2 Google Driveをマウント\n",
        "**このノートブックで、Google Driveを使用するための設定です。**\n",
        "\n",
        "「このノートブックに Google ドライブのファイルへのアクセスを許可しますか？」\n",
        "\n",
        "といったポップアップが表示されるので、「Google ドライブに接続」を押下し、google アカウントを選択して、「許可」を選択してください。\n",
        "\n",
        "成功すれば、下記メッセージが出ます。\n",
        "```\n",
        "Mounted at /content/drive/\n",
        "```\n"
      ]
    },
    {
      "cell_type": "code",
      "execution_count": null,
      "metadata": {
        "id": "hdfce8bPkpMB"
      },
      "outputs": [],
      "source": [
        "from google.colab import drive\n",
        "drive.mount('/content/drive')"
      ]
    },
    {
      "cell_type": "markdown",
      "source": [
        "​"
      ],
      "metadata": {
        "id": "GAGK1P8eiNm5"
      }
    },
    {
      "cell_type": "markdown",
      "source": [
        "## 3 MMVC_Trainerのクローン\n",
        "マイドライブ上に、MMVC_Trainerというフォルダが作成されます。\n",
        "\n",
        "実行前に、画面右上にあるアカウントのアイコンをクリックして、アカウントを確認してください。\n",
        "\n",
        "1分ほど時間がかかります。成功すると、最後に以下のようなメッセージが表示されます。\n",
        "```\n",
        "Checking out files: 100% (902/902), done.\n",
        "```"
      ],
      "metadata": {
        "id": "vuEmW0Eggh1n"
      }
    },
    {
      "cell_type": "code",
      "execution_count": null,
      "metadata": {
        "id": "7yZhO-jgI9k3"
      },
      "outputs": [],
      "source": [
        "%cd /content/drive/MyDrive\n",
        "!git clone https://github.com/isletennos/MMVC_Trainer/"
      ]
    },
    {
      "cell_type": "markdown",
      "source": [
        "​"
      ],
      "metadata": {
        "id": "V5xVjAYzkAyW"
      }
    },
    {
      "cell_type": "markdown",
      "source": [
        "## 4 確認\n",
        "以下のようなメッセージが表示されれば、保存が正常に完了しています。\n",
        "```\n",
        "attentions.py\n",
        "commons.py\n",
        "...(略)\n",
        "```"
      ],
      "metadata": {
        "id": "vCOTNl6Uj2I0"
      }
    },
    {
      "cell_type": "code",
      "source": [
        "!ls -1 /content/drive/MyDrive/MMVC_Trainer"
      ],
      "metadata": {
        "id": "8iUwQYbwkED-"
      },
      "execution_count": null,
      "outputs": []
    }
  ]
}